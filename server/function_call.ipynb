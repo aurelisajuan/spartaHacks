{
 "cells": [
  {
   "cell_type": "code",
   "execution_count": 1,
   "metadata": {},
   "outputs": [
    {
     "name": "stdout",
     "output_type": "stream",
     "text": [
      "{0: ChoiceDeltaToolCall(index=0, id='call_yI9rcOVsRsskyZbZTHgt5ala', function=ChoiceDeltaToolCallFunction(arguments='{\"location\": \"Paris, France\"}', name='get_weather'), type='function'), 1: ChoiceDeltaToolCall(index=1, id='call_D9vKkU7OozO55eqcff0R3Lxu', function=ChoiceDeltaToolCallFunction(arguments='{\"location_id\": 1}', name='get_food_items'), type='function')}\n"
     ]
    }
   ],
   "source": [
    "from openai import OpenAI\n",
    "import json\n",
    "from dotenv import load_dotenv\n",
    "load_dotenv()\n",
    "client = OpenAI()\n",
    "\n",
    "tools = [\n",
    "    {\n",
    "        \"type\": \"function\",\n",
    "        \"function\": {\n",
    "            \"name\": \"get_weather\",\n",
    "            \"description\": \"Get current temperature for a given location.\",\n",
    "            \"parameters\": {\n",
    "                \"type\": \"object\",\n",
    "                \"properties\": {\n",
    "                    \"location\": {\n",
    "                        \"type\": \"string\",\n",
    "                        \"description\": \"City and country e.g. Bogotá, Colombia\",\n",
    "                    }\n",
    "                },\n",
    "                \"required\": [\"location\"],\n",
    "                \"additionalProperties\": False,\n",
    "            },\n",
    "            \"strict\": True,\n",
    "        },\n",
    "    }\n",
    "    ,\n",
    "    {\n",
    "        \"type\": \"function\",\n",
    "        \"function\": {\n",
    "            \"name\": \"get_food_items\",\n",
    "            \"description\": \"Get available food items at a specific location.\",\n",
    "            \"parameters\": {\n",
    "                \"type\": \"object\",\n",
    "                \"properties\": {\n",
    "                    \"location_id\": {\n",
    "                        \"type\": \"integer\",\n",
    "                        \"description\": \"ID of the location to check food items\"\n",
    "                    }\n",
    "                },\n",
    "                \"required\": [\"location_id\"],\n",
    "                \"additionalProperties\": False\n",
    "            },\n",
    "            \"strict\": True\n",
    "        }\n",
    "    }\n",
    "]\n",
    "\n",
    "stream = client.chat.completions.create(\n",
    "    model=\"gpt-4o\",\n",
    "    messages=[{\"role\": \"user\", \"content\": \"What's the weather like in Paris today and what food items are available?\"}],\n",
    "    tools=tools,\n",
    "    stream=True,\n",
    ")\n",
    "\n",
    "\n",
    "final_tool_calls = {}\n",
    "\n",
    "for chunk in stream:\n",
    "    for tool_call in chunk.choices[0].delta.tool_calls or []:\n",
    "        index = tool_call.index\n",
    "\n",
    "        if index not in final_tool_calls:\n",
    "            final_tool_calls[index] = tool_call\n",
    "\n",
    "        final_tool_calls[index].function.arguments += tool_call.function.arguments\n",
    "print(final_tool_calls)"
   ]
  },
  {
   "cell_type": "code",
   "execution_count": 2,
   "metadata": {},
   "outputs": [
    {
     "name": "stdout",
     "output_type": "stream",
     "text": [
      "Today in Paris, the temperature is 15°C. As for the food items available, there are 50 baguettes and 30 croissants.\n"
     ]
    }
   ],
   "source": [
    "messages = [\n",
    "    {\n",
    "        \"role\": \"user\",\n",
    "        \"content\": \"What's the weather like in Paris today and what food items are available?\",\n",
    "    }\n",
    "]\n",
    "\n",
    "for index, tool_call in final_tool_calls.items():\n",
    "    # Append the assistant message that originally called the function\n",
    "    messages.append({\"role\": \"assistant\", \"tool_calls\": [tool_call], \"content\": \"\"})\n",
    "\n",
    "    # Parse arguments and simulate function execution\n",
    "    name = tool_call.function.name\n",
    "    args = json.loads(tool_call.function.arguments)\n",
    "    result = \"\"\n",
    "    if name == \"get_weather\":\n",
    "        # Dummy weather response\n",
    "        result = \"15°C\"\n",
    "    elif name == \"get_food_items\":\n",
    "        result = json.dumps(\n",
    "            [\n",
    "                {\"id\": 1, \"name\": \"Baguettes\", \"quantity\": 50},\n",
    "                {\"id\": 2, \"name\": \"Croissants\", \"quantity\": 30},\n",
    "            ]\n",
    "        )\n",
    "\n",
    "    # Append the tool result message\n",
    "    messages.append({\"role\": \"tool\", \"tool_call_id\": tool_call.id, \"content\": result})\n",
    "\n",
    "completion = client.chat.completions.create(\n",
    "    model=\"gpt-4o\",\n",
    "    messages=messages,\n",
    "    tools=tools,\n",
    ")\n",
    "\n",
    "print(completion.choices[0].message.content)"
   ]
  }
 ],
 "metadata": {
  "kernelspec": {
   "display_name": "spartahack",
   "language": "python",
   "name": "python3"
  },
  "language_info": {
   "codemirror_mode": {
    "name": "ipython",
    "version": 3
   },
   "file_extension": ".py",
   "mimetype": "text/x-python",
   "name": "python",
   "nbconvert_exporter": "python",
   "pygments_lexer": "ipython3",
   "version": "3.12.2"
  }
 },
 "nbformat": 4,
 "nbformat_minor": 2
}
