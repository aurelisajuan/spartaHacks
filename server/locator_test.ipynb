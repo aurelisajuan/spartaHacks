{
 "cells": [
  {
   "cell_type": "code",
   "execution_count": 1,
   "metadata": {},
   "outputs": [
    {
     "name": "stderr",
     "output_type": "stream",
     "text": [
      "2025-02-02 01:18:08,089 - INFO - HTTP Request: POST https://api.openai.com/v1/chat/completions \"HTTP/1.1 200 OK\"\n"
     ]
    },
    {
     "name": "stdout",
     "output_type": "stream",
     "text": [
      "Welcome to FoodLink! Are you looking to find food in your area, or are you a supplier wanting to contribute food?\n"
     ]
    }
   ],
   "source": [
    "from dotenv import load_dotenv\n",
    "\n",
    "load_dotenv()\n",
    "\n",
    "from agent_swarm import AgentSwarm\n",
    "\n",
    "messages = [{\"role\": \"user\", \"content\": \"Hello, how are you?\"}]\n",
    "\n",
    "agent_swarm = AgentSwarm()\n",
    "response = agent_swarm.run(messages)\n",
    "new_message = response.messages[-1][\"content\"]\n",
    "messages.append({\"role\": \"assistant\", \"content\": new_message})\n",
    "print(new_message)"
   ]
  },
  {
   "cell_type": "code",
   "execution_count": 2,
   "metadata": {},
   "outputs": [
    {
     "name": "stderr",
     "output_type": "stream",
     "text": [
      "2025-02-02 01:18:10,738 - INFO - HTTP Request: POST https://api.openai.com/v1/chat/completions \"HTTP/1.1 200 OK\"\n",
      "2025-02-02 01:18:10,745 - INFO - Transferring to Locator Agent.\n"
     ]
    },
    {
     "name": "stdout",
     "output_type": "stream",
     "text": [
      "Context variables:  {}\n"
     ]
    },
    {
     "name": "stderr",
     "output_type": "stream",
     "text": [
      "2025-02-02 01:18:11,562 - INFO - HTTP Request: POST https://api.openai.com/v1/chat/completions \"HTTP/1.1 200 OK\"\n"
     ]
    },
    {
     "name": "stdout",
     "output_type": "stream",
     "text": [
      "Hi, what type of food are you looking for today? Also, could you please provide your current location or address so I can find nearby options for you? If you have any dietary restrictions, such as gluten-free or vegetarian, please let me know as well.\n"
     ]
    }
   ],
   "source": [
    "messages.append({\"role\": \"user\", \"content\": \"I am looking for food\"})\n",
    "response = agent_swarm.run(messages, context_variables={\"messages\": messages})\n",
    "new_message = response.messages[-1][\"content\"]\n",
    "messages.append({\"role\": \"assistant\", \"content\": new_message})\n",
    "print(new_message)"
   ]
  },
  {
   "cell_type": "code",
   "execution_count": 3,
   "metadata": {},
   "outputs": [
    {
     "name": "stderr",
     "output_type": "stream",
     "text": [
      "2025-02-02 01:18:12,372 - INFO - HTTP Request: POST https://api.openai.com/v1/chat/completions \"HTTP/1.1 200 OK\"\n"
     ]
    },
    {
     "name": "stdout",
     "output_type": "stream",
     "text": [
      "Do you have any dietary restrictions, such as halal or kosher, that you'd like me to consider when finding meat suppliers? Also, could you please provide your current address or location?\n"
     ]
    }
   ],
   "source": [
    "messages.append(\n",
    "    {\n",
    "        \"role\": \"user\",\n",
    "        \"content\": \"I am looking for meat.\",\n",
    "    }\n",
    ")\n",
    "response = agent_swarm.run(messages, context_variables={\"messages\": messages})\n",
    "new_message = response.messages[-1][\"content\"]\n",
    "messages.append({\"role\": \"assistant\", \"content\": new_message})\n",
    "print(new_message)"
   ]
  },
  {
   "cell_type": "code",
   "execution_count": 4,
   "metadata": {},
   "outputs": [
    {
     "name": "stderr",
     "output_type": "stream",
     "text": [
      "2025-02-02 01:18:13,006 - INFO - HTTP Request: POST https://api.openai.com/v1/chat/completions \"HTTP/1.1 200 OK\"\n",
      "2025-02-02 01:18:13,011 - INFO - Converting address to coordinates for: Michigan State University\n"
     ]
    },
    {
     "name": "stdout",
     "output_type": "stream",
     "text": [
      "Ok let me just check your current location.\n"
     ]
    },
    {
     "name": "stderr",
     "output_type": "stream",
     "text": [
      "2025-02-02 01:18:13,906 - INFO - HTTP Request: POST https://api.openai.com/v1/chat/completions \"HTTP/1.1 200 OK\"\n",
      "2025-02-02 01:18:13,913 - INFO - Querying database with query: Locations near lat: 37.7749, long: -122.4194 with kosher meat options.\n",
      "2025-02-02 01:18:14,920 - INFO - HTTP Request: POST https://api.openai.com/v1/chat/completions \"HTTP/1.1 200 OK\"\n"
     ]
    },
    {
     "name": "stdout",
     "output_type": "stream",
     "text": [
      "I found a couple of options for kosher meat near Michigan State University. The MSU Food Bank is located at 123 Main St and is just 0.5 miles away. Another option is the Soup Kitchen Amazing, located at 456 Elm St, which is 0.8 miles away. Which one would you like to choose?\n"
     ]
    }
   ],
   "source": [
    "messages.append(\n",
    "    {\n",
    "        \"role\": \"user\",\n",
    "        \"content\": \"I am looking for kosher food, I am at michigan state university.\",\n",
    "    }\n",
    ")\n",
    "response = agent_swarm.run(messages, context_variables={\"messages\": messages})\n",
    "new_message = response.messages[-1][\"content\"]\n",
    "messages.append({\"role\": \"assistant\", \"content\": new_message})\n",
    "print(new_message)"
   ]
  }
 ],
 "metadata": {
  "kernelspec": {
   "display_name": "spartahack",
   "language": "python",
   "name": "python3"
  },
  "language_info": {
   "codemirror_mode": {
    "name": "ipython",
    "version": 3
   },
   "file_extension": ".py",
   "mimetype": "text/x-python",
   "name": "python",
   "nbconvert_exporter": "python",
   "pygments_lexer": "ipython3",
   "version": "3.12.2"
  }
 },
 "nbformat": 4,
 "nbformat_minor": 2
}
