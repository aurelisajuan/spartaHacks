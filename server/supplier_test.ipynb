{
 "cells": [
  {
   "cell_type": "code",
   "execution_count": 1,
   "metadata": {},
   "outputs": [
    {
     "name": "stderr",
     "output_type": "stream",
     "text": [
      "2025-02-02 01:16:44,529 - INFO - HTTP Request: POST https://api.openai.com/v1/chat/completions \"HTTP/1.1 200 OK\"\n"
     ]
    },
    {
     "name": "stdout",
     "output_type": "stream",
     "text": [
      "Welcome to FoodLink! Are you looking to find food in your area, or are you a supplier wanting to contribute food?\n"
     ]
    }
   ],
   "source": [
    "from dotenv import load_dotenv\n",
    "load_dotenv()\n",
    "\n",
    "from agent_swarm import AgentSwarm\n",
    "\n",
    "messages = [\n",
    "    {\n",
    "        \"role\": \"user\",\n",
    "        \"content\": \"Hello, how are you?\"\n",
    "    }\n",
    "]\n",
    "\n",
    "agent_swarm = AgentSwarm()\n",
    "response = agent_swarm.run(messages)\n",
    "new_message = response.messages[-1]['content']\n",
    "messages.append({\"role\": \"assistant\", \"content\": new_message})\n",
    "print(new_message)"
   ]
  },
  {
   "cell_type": "code",
   "execution_count": 2,
   "metadata": {},
   "outputs": [
    {
     "name": "stderr",
     "output_type": "stream",
     "text": [
      "2025-02-02 01:16:45,840 - INFO - HTTP Request: POST https://api.openai.com/v1/chat/completions \"HTTP/1.1 200 OK\"\n",
      "2025-02-02 01:16:45,843 - INFO - Transferring to Supplier Agent.\n",
      "2025-02-02 01:16:46,686 - INFO - HTTP Request: POST https://api.openai.com/v1/chat/completions \"HTTP/1.1 200 OK\"\n"
     ]
    },
    {
     "name": "stdout",
     "output_type": "stream",
     "text": [
      "Thank you for providing your supplier ID. Could you let me know what type of food you would like to contribute today and the quantity available?\n"
     ]
    }
   ],
   "source": [
    "messages.append({\"role\": \"user\", \"content\": \"I am a supplier with id 10000\"})\n",
    "response = agent_swarm.run(messages, context_variables={\"messages\": messages})\n",
    "new_message = response.messages[-1][\"content\"]\n",
    "messages.append({\"role\": \"assistant\", \"content\": new_message})\n",
    "print(new_message)"
   ]
  },
  {
   "cell_type": "code",
   "execution_count": 3,
   "metadata": {},
   "outputs": [
    {
     "name": "stderr",
     "output_type": "stream",
     "text": [
      "2025-02-02 01:16:47,374 - INFO - HTTP Request: POST https://api.openai.com/v1/chat/completions \"HTTP/1.1 200 OK\"\n"
     ]
    },
    {
     "name": "stdout",
     "output_type": "stream",
     "text": [
      "Got it. You have 50 pounds of carrots and 100 pounds of potatoes. Is there anything else you would like to contribute?\n"
     ]
    }
   ],
   "source": [
    "messages.append({\"role\": \"user\", \"content\": \"I have 50 pounds of carrots and 100 pounds of potatoes\"})\n",
    "response = agent_swarm.run(messages, context_variables={\"messages\": messages})\n",
    "new_message = response.messages[-1]['content']\n",
    "messages.append({\"role\": \"assistant\", \"content\": new_message})\n",
    "print(new_message)"
   ]
  },
  {
   "cell_type": "code",
   "execution_count": 4,
   "metadata": {},
   "outputs": [
    {
     "name": "stderr",
     "output_type": "stream",
     "text": [
      "2025-02-02 01:16:47,798 - INFO - HTTP Request: POST https://api.openai.com/v1/chat/completions \"HTTP/1.1 200 OK\"\n",
      "2025-02-02 01:16:47,800 - INFO - Ending the call with the supplier.\n",
      "2025-02-02 01:16:48,296 - INFO - HTTP Request: POST https://api.openai.com/v1/chat/completions \"HTTP/1.1 200 OK\"\n"
     ]
    },
    {
     "name": "stdout",
     "output_type": "stream",
     "text": [
      "All set! Thank you for contributing your stock. Have a great day!\n"
     ]
    }
   ],
   "source": [
    "messages.append(\n",
    "    {\n",
    "        \"role\": \"user\",\n",
    "        \"content\": \"Thats all thank you.\",\n",
    "    }\n",
    ")\n",
    "response = agent_swarm.run(messages, context_variables={\"messages\": messages})\n",
    "new_message = response.messages[-1][\"content\"]\n",
    "messages.append({\"role\": \"assistant\", \"content\": new_message})\n",
    "print(new_message)"
   ]
  }
 ],
 "metadata": {
  "kernelspec": {
   "display_name": "spartahack",
   "language": "python",
   "name": "python3"
  },
  "language_info": {
   "codemirror_mode": {
    "name": "ipython",
    "version": 3
   },
   "file_extension": ".py",
   "mimetype": "text/x-python",
   "name": "python",
   "nbconvert_exporter": "python",
   "pygments_lexer": "ipython3",
   "version": "3.12.2"
  }
 },
 "nbformat": 4,
 "nbformat_minor": 2
}
